import apache_beam as beam

p1= beam.Pipeline()
movie_gt_80 = (
  p1
  | beam.io.ReadFromText('movie_rating.txt', skip_header_lines=1) #reading from the movie rating & skipping the first line
  | beam.Map(lambda record: record.split(',')) #record split by comma
  | beam.Filter(lambda record: float(record[3]) > 80) #getting only those movies who has audience score > 80
  | beam.io.WriteToText('result.txt') )
p1.run()


